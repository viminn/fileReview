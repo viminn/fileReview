{
 "cells": [
  {
   "cell_type": "code",
   "execution_count": 21,
   "id": "bced0af9-93cb-4d95-8c84-091ae6fcb23e",
   "metadata": {},
   "outputs": [],
   "source": [
    "import re\n",
    "import pdfplumber\n",
    "from pprint import pprint\n",
    "import json\n",
    "\n",
    "file = \"bigUnofficialTranscript.pdf\"\n",
    "text = \"\"\n",
    "\n",
    "honorsRE = re.compile(r'.*honors', re.IGNORECASE)\n",
    "courseRE = re.compile(r'[A-Z]+\\s\\d{2,3}')\n",
    "courseLineRE = re.compile(r'([A-Z]+ \\d+) (\\w+\\s*\\w*) ([UGA]*) (\\D+?) ([ABCDF-]*)\\s?(\\d\\.\\d{3})')\n",
    "nameRE = re.compile(r'^([A-Za-z]+), ([A-Za-z]+)')\n",
    "studentChunkRE = re.compile('(Kutztown\\nUnofficial Academic Transcript\\n.*?)(?=Kutztown\\nUnofficial Academic Transcript\\n)|(Kutztown\\nUnofficial Academic Transcript\\n.*)$', re.DOTALL)\n",
    "termRE = re.compile('(Term:) (\\w*\\s\\d{4})(.*?)(?=Term)|(Term:) (\\w*\\s\\d{4})(.*?$)', re.DOTALL)\n",
    "# termRE = re.compile('(Term: .*?$)', re.DOTALL)\n",
    "\n",
    "# put all text of a pdf into a string\n",
    "with pdfplumber.open(file) as pdf:\n",
    "    for page in pdf.pages:\n",
    "        text += page.extract_text() + \"\\n\"\n",
    "# print(text)\n",
    "# split the string across students\n",
    "allStudentList = re.split(studentChunkRE,text)\n",
    "allStudentList = filter(None, allStudentList)\n",
    "allStudentList = list(filter(len,allStudentList))\n"
   ]
  },
  {
   "cell_type": "code",
   "execution_count": 30,
   "id": "f6eb94c4-5485-4b9a-b357-34c64ec79a98",
   "metadata": {},
   "outputs": [
    {
     "name": "stdout",
     "output_type": "stream",
     "text": [
      "<class 'str'>\n"
     ]
    }
   ],
   "source": [
    "print(type(allStudentList[4]))\n",
    "# print(len(allStudentList))"
   ]
  },
  {
   "cell_type": "code",
   "execution_count": 23,
   "id": "74e297b4-5f06-49d1-9e1c-e67c41d11b3e",
   "metadata": {},
   "outputs": [],
   "source": [
    "studentJSON = {}\n",
    "\n",
    "for student in allStudentList:\n",
    "    courseList = []\n",
    "    joinedCourseList = []\n",
    "    honorsList = []\n",
    "    studentName = \"\"\n",
    "    courseDict = {}\n",
    "    termList = []\n",
    "    \n",
    "    termList = re.split(termRE,student)\n",
    "    termList = filter(None, termList)\n",
    "    termList = list(filter(len,termList))\n",
    "\n",
    "    # # build a list of all a student's courses\n",
    "    # for line in student.split('\\n'):\n",
    "    #     if honorsRE.match(line) or courseRE.match(line):\n",
    "    #         courseList.append(line)\n",
    "    #     if nameRE.match(line):\n",
    "    #         line = nameRE.search(line)\n",
    "    #         if line:\n",
    "    #             lastName = line.group(1)\n",
    "    #             firstName = line.group(2)\n",
    "    #             studentName = firstName + ' ' + lastName\n",
    "    \n",
    "    # # join lines where Campus HONORS is on the next line\n",
    "    # for entry in courseList:\n",
    "    #     if entry == 'Campus HONORS':\n",
    "    #         if joinedCourseList:\n",
    "    #             joinedCourseList[-1] += ' ' + entry\n",
    "    #     else:\n",
    "    #         joinedCourseList.append(entry)\n",
    "\n",
    "    # # build a list of honors courses\n",
    "    # for course in joinedCourseList:\n",
    "    #     if honorsRE.match(course):\n",
    "    #         honorsList.append(course)\n",
    "\n",
    "    # cleanedHonorsList = [s.replace('\\n', '') for s in honorsList]\n",
    "    \n",
    "    # # parse out a course into pieces of info\n",
    "    # for course in cleanedHonorsList:\n",
    "    #     if courseLineRE.match(course):\n",
    "    #         course = courseLineRE.search(course)\n",
    "    #         if course:\n",
    "    #             courseCode = course.group(1)\n",
    "    #             title = course.group(4)\n",
    "    #             grade = course.group(5)\n",
    "    #             creditHours = course.group(6)\n",
    "    #             courseDict[courseCode] = {\"title\": title, \"grade\": grade, \"credits\": creditHours}\n",
    "    # studentJSON[studentName] = courseDict"
   ]
  },
  {
   "cell_type": "code",
   "execution_count": 28,
   "id": "43fe2623-43fd-4497-b0dd-c1f6e62675ea",
   "metadata": {},
   "outputs": [
    {
     "name": "stdout",
     "output_type": "stream",
     "text": [
      "'\\n'\n"
     ]
    }
   ],
   "source": [
    "pprint(termList[2])\n",
    "# print(len(termList))"
   ]
  },
  {
   "cell_type": "code",
   "execution_count": null,
   "id": "0d03a007-85d6-4ab5-8218-d1fe3fc121bc",
   "metadata": {},
   "outputs": [],
   "source": []
  }
 ],
 "metadata": {
  "kernelspec": {
   "display_name": "Python 3 (ipykernel)",
   "language": "python",
   "name": "python3"
  },
  "language_info": {
   "codemirror_mode": {
    "name": "ipython",
    "version": 3
   },
   "file_extension": ".py",
   "mimetype": "text/x-python",
   "name": "python",
   "nbconvert_exporter": "python",
   "pygments_lexer": "ipython3",
   "version": "3.10.12"
  }
 },
 "nbformat": 4,
 "nbformat_minor": 5
}
