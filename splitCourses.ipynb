{
 "cells": [
  {
   "cell_type": "code",
   "execution_count": 129,
   "id": "3e7dfe8f-d152-42a3-93c3-f43d509228d2",
   "metadata": {},
   "outputs": [],
   "source": [
    "import re\n",
    "import pdfplumber\n",
    "from pprint import pprint\n",
    "import json"
   ]
  },
  {
   "cell_type": "code",
   "execution_count": 130,
   "id": "4b0e20d1-77a3-4409-8f56-4c11ae083631",
   "metadata": {},
   "outputs": [],
   "source": [
    "file = \"TimUnofficialTranscript.pdf\""
   ]
  },
  {
   "cell_type": "code",
   "execution_count": 131,
   "id": "d3a75160-ca90-44ef-982f-e8d30603726d",
   "metadata": {},
   "outputs": [],
   "source": [
    "text = \"\"\n",
    "with pdfplumber.open(file) as pdf:\n",
    "    for page in pdf.pages:\n",
    "        text += page.extract_text()"
   ]
  },
  {
   "cell_type": "code",
   "execution_count": 132,
   "id": "8351e37f-78cb-4efa-b12c-5b7bf7b309d1",
   "metadata": {},
   "outputs": [],
   "source": [
    "honorsRE = re.compile(r'.*honors', re.IGNORECASE)\n",
    "courseRE = re.compile(r'[A-Z]+\\s\\d{2,3}')"
   ]
  },
  {
   "cell_type": "code",
   "execution_count": 133,
   "id": "565879ba-d89f-41aa-ab0f-57d436e876c4",
   "metadata": {},
   "outputs": [],
   "source": [
    "courseList = []\n",
    "for line in text.split('\\n'):\n",
    "    if honorsRE.match(line) or courseRE.match(line):\n",
    "        courseList.append(line)\n",
    "# pprint(courseList)"
   ]
  },
  {
   "cell_type": "code",
   "execution_count": 134,
   "id": "8cde5319-95bd-4528-b6ca-ea162c17947a",
   "metadata": {},
   "outputs": [],
   "source": [
    "newList = []\n",
    "for entry in courseList:\n",
    "    if entry == 'Campus HONORS':\n",
    "        if newList:\n",
    "            newList[-1] += ' ' + entry\n",
    "    else:\n",
    "        newList.append(entry)\n",
    "# pprint(newList)"
   ]
  },
  {
   "cell_type": "code",
   "execution_count": 135,
   "id": "afd14434-e54e-438a-8064-bbd6b796441d",
   "metadata": {},
   "outputs": [
    {
     "name": "stdout",
     "output_type": "stream",
     "text": [
      "['CSC 150 Kutztown UG ETHICAL LEGAL PROF IMPACT DIG - A 3.000 12.00 Campus '\n",
      " 'HONORS',\n",
      " 'CMP 200 Kutztown UG RESEARCH AND COMPOSITION - A 3.000 12.00 Campus HONORS',\n",
      " 'COM 237 Kutztown UG WOMEN WRITERS IN PERFORMN - A 3.000 12.00 Campus HONORS',\n",
      " 'HIS 14 Kutztown UG HISTORY OF CIVILIZATION A - A- 3.000 11.01 Campus HONORS',\n",
      " 'CSC 354 Kutztown UG SOFTWARE ENGINEERING I - A 3.000 12.00 Campus HONORS',\n",
      " 'CPSC 398 Kutztown Campus UG Honors Supplementary Research 3.000']\n"
     ]
    }
   ],
   "source": [
    "honorsList = []\n",
    "for course in newList:\n",
    "    if honorsRE.match(course):\n",
    "        honorsList.append(course)\n",
    "cleaned = [s.replace('\\n', '') for s in honorsList]\n",
    "# print(cleaned)\n",
    "pprint(honorsList)"
   ]
  },
  {
   "cell_type": "code",
   "execution_count": 136,
   "id": "ba9abc8f-2f8a-463f-8512-c93ec67af7f6",
   "metadata": {},
   "outputs": [],
   "source": [
    "courseJSON = []\n",
    "courseLineRE = re.compile(r'([A-Z]+ \\d+) (\\w+\\s*\\w*) ([UGA]*) (\\D+?) ([ABCDF-]*)\\s?(\\d\\.\\d{3})')\n",
    "for course in cleaned:\n",
    "    if courseLineRE.match(course):\n",
    "        course = courseLineRE.search(course)\n",
    "        if course:\n",
    "            courseCode = course.group(1)\n",
    "            title = course.group(4)\n",
    "            grade = course.group(5)\n",
    "            creditHours = course.group(6)\n",
    "            courseDict = {courseCode: {\"title\": title, \"grade\": grade, \"credits\": creditHours}}\n",
    "            courseJSON.append(courseDict)"
   ]
  },
  {
   "cell_type": "code",
   "execution_count": 137,
   "id": "5faa20fa-ba17-49e2-8bdd-22cb9750c243",
   "metadata": {},
   "outputs": [
    {
     "name": "stdout",
     "output_type": "stream",
     "text": [
      "{'Timothy Pasquel': [{'CSC 150': {'credits': '3.000',\n",
      "                                  'grade': 'A',\n",
      "                                  'title': 'ETHICAL LEGAL PROF IMPACT DIG -'}},\n",
      "                     {'CMP 200': {'credits': '3.000',\n",
      "                                  'grade': 'A',\n",
      "                                  'title': 'RESEARCH AND COMPOSITION -'}},\n",
      "                     {'COM 237': {'credits': '3.000',\n",
      "                                  'grade': 'A',\n",
      "                                  'title': 'WOMEN WRITERS IN PERFORMN -'}},\n",
      "                     {'HIS 14': {'credits': '3.000',\n",
      "                                 'grade': 'A-',\n",
      "                                 'title': 'HISTORY OF CIVILIZATION A -'}},\n",
      "                     {'CSC 354': {'credits': '3.000',\n",
      "                                  'grade': 'A',\n",
      "                                  'title': 'SOFTWARE ENGINEERING I -'}},\n",
      "                     {'CPSC 398': {'credits': '3.000',\n",
      "                                   'grade': '',\n",
      "                                   'title': 'Honors Supplementary Research'}}]}\n"
     ]
    }
   ],
   "source": [
    "nameRE = re.compile(r'^([A-Za-z]+), ([A-Za-z]+)')\n",
    "for line in text.split('\\n'):\n",
    "    if nameRE.match(line):\n",
    "        line = nameRE.search(line)\n",
    "        if line:\n",
    "            lastName = line.group(1)\n",
    "            firstName = line.group(2)\n",
    "            studentJSON = {firstName + ' ' + lastName: courseJSON}\n",
    "# pprint(studentJSON)\n",
    "y = json.dumps(studentJSON)\n",
    "pprint(studentJSON)"
   ]
  },
  {
   "cell_type": "code",
   "execution_count": null,
   "id": "d3479cd8-990f-4aa4-8ac8-b0a5e722af5c",
   "metadata": {},
   "outputs": [],
   "source": []
  }
 ],
 "metadata": {
  "kernelspec": {
   "display_name": "Python 3 (ipykernel)",
   "language": "python",
   "name": "python3"
  },
  "language_info": {
   "codemirror_mode": {
    "name": "ipython",
    "version": 3
   },
   "file_extension": ".py",
   "mimetype": "text/x-python",
   "name": "python",
   "nbconvert_exporter": "python",
   "pygments_lexer": "ipython3",
   "version": "3.10.12"
  }
 },
 "nbformat": 4,
 "nbformat_minor": 5
}
