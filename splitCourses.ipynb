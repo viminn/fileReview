{
 "cells": [
  {
   "cell_type": "code",
   "execution_count": 41,
   "id": "3e7dfe8f-d152-42a3-93c3-f43d509228d2",
   "metadata": {},
   "outputs": [],
   "source": [
    "import re\n",
    "import pdfplumber\n",
    "from pprint import pprint\n",
    "import json"
   ]
  },
  {
   "cell_type": "code",
   "execution_count": 42,
   "id": "4b0e20d1-77a3-4409-8f56-4c11ae083631",
   "metadata": {},
   "outputs": [],
   "source": [
    "file = \"UnofficialTranscript.pdf\""
   ]
  },
  {
   "cell_type": "code",
   "execution_count": 50,
   "id": "d3a75160-ca90-44ef-982f-e8d30603726d",
   "metadata": {},
   "outputs": [],
   "source": [
    "text = \"\"\n",
    "with pdfplumber.open(file) as pdf:\n",
    "    for page in pdf.pages:\n",
    "        text += page.extract_text()"
   ]
  },
  {
   "cell_type": "code",
   "execution_count": 51,
   "id": "8351e37f-78cb-4efa-b12c-5b7bf7b309d1",
   "metadata": {},
   "outputs": [],
   "source": [
    "honorsRE = re.compile(r'.*honors', re.IGNORECASE)\n",
    "courseRE = re.compile(r'[A-Z]+\\s\\d{2,3}')"
   ]
  },
  {
   "cell_type": "code",
   "execution_count": 52,
   "id": "565879ba-d89f-41aa-ab0f-57d436e876c4",
   "metadata": {},
   "outputs": [
    {
     "name": "stdout",
     "output_type": "stream",
     "text": [
      "['PEC 70 PERSONAL FITNESS CR 2.000 0.00',\n",
      " 'SPT 20 FIRST AID CR 2.000 0.00',\n",
      " 'FRE 101 ELEMENTARY FRENCH I CR 3.000 0.00',\n",
      " 'FRE 102 ELEMENTARY FRENCH II CR 3.000 0.00',\n",
      " 'FRE 103 INTERMEDIATE FRENCH III CR 3.000 0.00',\n",
      " 'FRE 104 INTERMEDIATE FRENCH IV CR 3.000 0.00',\n",
      " 'FRE 212 FRENCH COMPOSITION CR 3.000 0.00',\n",
      " 'CSC 135 Kutztown UG COMPUTER SCIENCE I - HONORS A 3.000 12.00',\n",
      " 'CSC 150 Kutztown UG ETHICAL LEGAL PROF IMPACT DIG - A 3.000 12.00',\n",
      " 'Campus HONORS',\n",
      " 'FYS 100 Kutztown UG FIRST YEAR SEMINAR - A 3.000 12.00',\n",
      " 'MAT 181 Kutztown UG Calculus I A 4.000 16.00',\n",
      " 'ANT 212 Kutztown UG SHAMANS, WITCHES & MAGIC - A 3.000 12.00',\n",
      " 'Campus HONORS',\n",
      " 'CMP 200 Kutztown UG RESEARCH AND COMPOSITION - A 3.000 12.00',\n",
      " 'Campus HONORS',\n",
      " 'CSC 125 Kutztown UG Discrete Math for Computing I A 3.000 12.00',\n",
      " 'CSC 223 Kutztown UG Advanced Scientific Programming A 3.000 12.00',\n",
      " 'CSC 252 Kutztown UG UNIX Scripting and Administration A 3.000 12.00',\n",
      " 'CSC 111 Kutztown UG Computer Forensics A 3.000 12.00',\n",
      " 'CSC 242 Kutztown UG Server-side Web Development A 3.000 12.00',\n",
      " 'CSC 253 Kutztown UG Information Technology Systems A 3.000 12.00',\n",
      " 'MAT 140 Kutztown UG Applied Statistical Methods A 3.000 12.00',\n",
      " 'MUS 20 Kutztown UG Basic Concepts and Skills of Music A 3.000 12.00',\n",
      " 'CSC 237 Kutztown UG Data Structures A 3.000 12.00',\n",
      " 'CSC 273 Kutztown UG Computing Systems Integration A 3.000 12.00',\n",
      " 'GEL 31 Kutztown UG Geology of the National Parks and A 3.000 12.00',\n",
      " 'POL 30 Kutztown UG INTRO TO WORLD POLITICS - A 3.000 12.00',\n",
      " 'Campus HONORS',\n",
      " 'CRJ 170 Kutztown UG Introduction to Security A 3.000 12.00',\n",
      " 'CSC 311 Kutztown UG Computer Networks A 3.000 12.00',\n",
      " 'CSC 341 Kutztown UG Introduction to Information Security A 3.000 12.00',\n",
      " 'CSC 354 Kutztown UG SOFTWARE ENGINEERING I - A 3.000 12.00',\n",
      " 'Campus HONORS',\n",
      " 'CSC 411 Kutztown UG Advanced Networking A 3.000 12.00',\n",
      " 'SOC 10 Kutztown UG Principles of Sociology A 3.000 12.00',\n",
      " 'CRJ 171 Kutztown UG Loss Prevention and Asset ProtectionA 3.000 12.00',\n",
      " 'CSC 355 Kutztown UG SOFTWARE ENGINEERING II - A 3.000 12.00',\n",
      " 'Campus HONORS',\n",
      " 'CSC 356 Kutztown UG Introduction to Database A 3.000 12.00',\n",
      " 'CSC 372 Kutztown UG Independent Study and/or Project InA 3.000 12.00',\n",
      " 'CSC 395 Kutztown UG Honors Independent Study/Thesis A 3.000 12.00',\n",
      " 'CPSC 398 Kutztown Campus UG Honors Supplementary Research 3.000',\n",
      " 'CPSC 447 Kutztown Campus UG Artificial Intelligence I 3.000',\n",
      " 'CRJU 215 Kutztown Campus UG Introduction to Crime Mapping and Analysis3.000',\n",
      " 'MUSC 113 Kutztown Campus UG Introduction to Film Music 3.000']\n"
     ]
    }
   ],
   "source": [
    "courseList = []\n",
    "for line in text.split('\\n'):\n",
    "    if honorsRE.match(line) or courseRE.match(line):\n",
    "        courseList.append(line)\n",
    "pprint(courseList)"
   ]
  },
  {
   "cell_type": "code",
   "execution_count": 53,
   "id": "8cde5319-95bd-4528-b6ca-ea162c17947a",
   "metadata": {},
   "outputs": [
    {
     "name": "stdout",
     "output_type": "stream",
     "text": [
      "['PEC 70 PERSONAL FITNESS CR 2.000 0.00',\n",
      " 'SPT 20 FIRST AID CR 2.000 0.00',\n",
      " 'FRE 101 ELEMENTARY FRENCH I CR 3.000 0.00',\n",
      " 'FRE 102 ELEMENTARY FRENCH II CR 3.000 0.00',\n",
      " 'FRE 103 INTERMEDIATE FRENCH III CR 3.000 0.00',\n",
      " 'FRE 104 INTERMEDIATE FRENCH IV CR 3.000 0.00',\n",
      " 'FRE 212 FRENCH COMPOSITION CR 3.000 0.00',\n",
      " 'CSC 135 Kutztown UG COMPUTER SCIENCE I - HONORS A 3.000 12.00',\n",
      " 'CSC 150 Kutztown UG ETHICAL LEGAL PROF IMPACT DIG - A 3.000 12.00 Campus '\n",
      " 'HONORS',\n",
      " 'FYS 100 Kutztown UG FIRST YEAR SEMINAR - A 3.000 12.00',\n",
      " 'MAT 181 Kutztown UG Calculus I A 4.000 16.00',\n",
      " 'ANT 212 Kutztown UG SHAMANS, WITCHES & MAGIC - A 3.000 12.00 Campus HONORS',\n",
      " 'CMP 200 Kutztown UG RESEARCH AND COMPOSITION - A 3.000 12.00 Campus HONORS',\n",
      " 'CSC 125 Kutztown UG Discrete Math for Computing I A 3.000 12.00',\n",
      " 'CSC 223 Kutztown UG Advanced Scientific Programming A 3.000 12.00',\n",
      " 'CSC 252 Kutztown UG UNIX Scripting and Administration A 3.000 12.00',\n",
      " 'CSC 111 Kutztown UG Computer Forensics A 3.000 12.00',\n",
      " 'CSC 242 Kutztown UG Server-side Web Development A 3.000 12.00',\n",
      " 'CSC 253 Kutztown UG Information Technology Systems A 3.000 12.00',\n",
      " 'MAT 140 Kutztown UG Applied Statistical Methods A 3.000 12.00',\n",
      " 'MUS 20 Kutztown UG Basic Concepts and Skills of Music A 3.000 12.00',\n",
      " 'CSC 237 Kutztown UG Data Structures A 3.000 12.00',\n",
      " 'CSC 273 Kutztown UG Computing Systems Integration A 3.000 12.00',\n",
      " 'GEL 31 Kutztown UG Geology of the National Parks and A 3.000 12.00',\n",
      " 'POL 30 Kutztown UG INTRO TO WORLD POLITICS - A 3.000 12.00 Campus HONORS',\n",
      " 'CRJ 170 Kutztown UG Introduction to Security A 3.000 12.00',\n",
      " 'CSC 311 Kutztown UG Computer Networks A 3.000 12.00',\n",
      " 'CSC 341 Kutztown UG Introduction to Information Security A 3.000 12.00',\n",
      " 'CSC 354 Kutztown UG SOFTWARE ENGINEERING I - A 3.000 12.00 Campus HONORS',\n",
      " 'CSC 411 Kutztown UG Advanced Networking A 3.000 12.00',\n",
      " 'SOC 10 Kutztown UG Principles of Sociology A 3.000 12.00',\n",
      " 'CRJ 171 Kutztown UG Loss Prevention and Asset ProtectionA 3.000 12.00',\n",
      " 'CSC 355 Kutztown UG SOFTWARE ENGINEERING II - A 3.000 12.00 Campus HONORS',\n",
      " 'CSC 356 Kutztown UG Introduction to Database A 3.000 12.00',\n",
      " 'CSC 372 Kutztown UG Independent Study and/or Project InA 3.000 12.00',\n",
      " 'CSC 395 Kutztown UG Honors Independent Study/Thesis A 3.000 12.00',\n",
      " 'CPSC 398 Kutztown Campus UG Honors Supplementary Research 3.000',\n",
      " 'CPSC 447 Kutztown Campus UG Artificial Intelligence I 3.000',\n",
      " 'CRJU 215 Kutztown Campus UG Introduction to Crime Mapping and Analysis3.000',\n",
      " 'MUSC 113 Kutztown Campus UG Introduction to Film Music 3.000']\n"
     ]
    }
   ],
   "source": [
    "newList = []\n",
    "for entry in courseList:\n",
    "    if entry == 'Campus HONORS':\n",
    "        if newList:\n",
    "            newList[-1] += ' ' + entry\n",
    "    else:\n",
    "        newList.append(entry)\n",
    "pprint(newList)"
   ]
  },
  {
   "cell_type": "code",
   "execution_count": 54,
   "id": "afd14434-e54e-438a-8064-bbd6b796441d",
   "metadata": {},
   "outputs": [
    {
     "name": "stdout",
     "output_type": "stream",
     "text": [
      "['CSC 135 Kutztown UG COMPUTER SCIENCE I - HONORS A 3.000 12.00',\n",
      " 'CSC 150 Kutztown UG ETHICAL LEGAL PROF IMPACT DIG - A 3.000 12.00 Campus '\n",
      " 'HONORS',\n",
      " 'ANT 212 Kutztown UG SHAMANS, WITCHES & MAGIC - A 3.000 12.00 Campus HONORS',\n",
      " 'CMP 200 Kutztown UG RESEARCH AND COMPOSITION - A 3.000 12.00 Campus HONORS',\n",
      " 'POL 30 Kutztown UG INTRO TO WORLD POLITICS - A 3.000 12.00 Campus HONORS',\n",
      " 'CSC 354 Kutztown UG SOFTWARE ENGINEERING I - A 3.000 12.00 Campus HONORS',\n",
      " 'CSC 355 Kutztown UG SOFTWARE ENGINEERING II - A 3.000 12.00 Campus HONORS',\n",
      " 'CSC 395 Kutztown UG Honors Independent Study/Thesis A 3.000 12.00',\n",
      " 'CPSC 398 Kutztown Campus UG Honors Supplementary Research 3.000']\n"
     ]
    }
   ],
   "source": [
    "honorsList = []\n",
    "for course in newList:\n",
    "    if honorsRE.match(course):\n",
    "        honorsList.append(course)\n",
    "pprint(honorsList)"
   ]
  },
  {
   "cell_type": "code",
   "execution_count": 56,
   "id": "5faa20fa-ba17-49e2-8bdd-22cb9750c243",
   "metadata": {},
   "outputs": [
    {
     "name": "stdout",
     "output_type": "stream",
     "text": [
      "('{\"name\": \"Aidan Lapenta\", \"courses\": [\"CSC 135 Kutztown UG COMPUTER SCIENCE '\n",
      " 'I - HONORS A 3.000 12.00\", \"CSC 150 Kutztown UG ETHICAL LEGAL PROF IMPACT '\n",
      " 'DIG - A 3.000 12.00 Campus HONORS\", \"ANT 212 Kutztown UG SHAMANS, WITCHES & '\n",
      " 'MAGIC - A 3.000 12.00 Campus HONORS\", \"CMP 200 Kutztown UG RESEARCH AND '\n",
      " 'COMPOSITION - A 3.000 12.00 Campus HONORS\", \"POL 30 Kutztown UG INTRO TO '\n",
      " 'WORLD POLITICS - A 3.000 12.00 Campus HONORS\", \"CSC 354 Kutztown UG SOFTWARE '\n",
      " 'ENGINEERING I - A 3.000 12.00 Campus HONORS\", \"CSC 355 Kutztown UG SOFTWARE '\n",
      " 'ENGINEERING II - A 3.000 12.00 Campus HONORS\", \"CSC 395 Kutztown UG Honors '\n",
      " 'Independent Study/Thesis A 3.000 12.00\", \"CPSC 398 Kutztown Campus UG Honors '\n",
      " 'Supplementary Research 3.000\"]}')\n"
     ]
    }
   ],
   "source": [
    "nameRE = re.compile(r'^([A-Za-z]+), ([A-Za-z]+)')\n",
    "for line in text.split('\\n'):\n",
    "    if nameRE.match(line):\n",
    "        line = nameRE.search(line)\n",
    "        if line:\n",
    "            lastName = line.group(1)\n",
    "            firstName = line.group(2)\n",
    "            studentJSON = {\"name\": firstName + ' ' + lastName, \"courses\": honorsList}\n",
    "# pprint(studentJSON)\n",
    "y = json.dumps(studentJSON)\n",
    "pprint(y)"
   ]
  },
  {
   "cell_type": "code",
   "execution_count": null,
   "id": "d3479cd8-990f-4aa4-8ac8-b0a5e722af5c",
   "metadata": {},
   "outputs": [],
   "source": []
  }
 ],
 "metadata": {
  "kernelspec": {
   "display_name": "Python 3 (ipykernel)",
   "language": "python",
   "name": "python3"
  },
  "language_info": {
   "codemirror_mode": {
    "name": "ipython",
    "version": 3
   },
   "file_extension": ".py",
   "mimetype": "text/x-python",
   "name": "python",
   "nbconvert_exporter": "python",
   "pygments_lexer": "ipython3",
   "version": "3.10.12"
  }
 },
 "nbformat": 4,
 "nbformat_minor": 5
}
